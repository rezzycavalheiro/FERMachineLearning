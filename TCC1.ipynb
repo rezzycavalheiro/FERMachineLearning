{
  "nbformat": 4,
  "nbformat_minor": 0,
  "metadata": {
    "colab": {
      "name": "TCC1.ipynb",
      "provenance": [],
      "collapsed_sections": [],
      "authorship_tag": "ABX9TyMrxzrjv8D/8Q5oxIpYHnl5",
      "include_colab_link": true
    },
    "kernelspec": {
      "name": "python3",
      "display_name": "Python 3"
    }
  },
  "cells": [
    {
      "cell_type": "markdown",
      "metadata": {
        "id": "view-in-github",
        "colab_type": "text"
      },
      "source": [
        "<a href=\"https://colab.research.google.com/github/rezzycavalheiro/FERMachineLearning/blob/master/TCC1.ipynb\" target=\"_parent\"><img src=\"https://colab.research.google.com/assets/colab-badge.svg\" alt=\"Open In Colab\"/></a>"
      ]
    },
    {
      "cell_type": "markdown",
      "metadata": {
        "id": "WL84rOsApbGk",
        "colab_type": "text"
      },
      "source": [
        ""
      ]
    },
    {
      "cell_type": "markdown",
      "metadata": {
        "id": "goumAHJcnB28",
        "colab_type": "text"
      },
      "source": [
        "This code is a prototype for my final course project. \n",
        "\n",
        "**Course**: Computer Science  \n",
        "**University**: Pontifical Catholic University of Paraná (PUC PR)  \n",
        "**Student's name**: Renata Cavalheiro da Silva  \n",
        "    \n",
        "**Project's title**: Classification of Facial Expressions Using Deep Learning\n",
        "\n",
        "> **Description**: This project aims to build a Facial Expresion Recognition (FER) algorithm that presents a high accuracy and that could be adapted for psychologists and psychiatrists to use during their appointments with their pacients. The idea is that this tool would help the medical professionals to record and evaluate the expressions presented by their pacients, and use the data to check if they match what the pacient is saying. This is due to people being able to say something when they are feeling another - like someone with depressive symptoms saying they don't feel sadness, but in their expression actually showing this emotion. \n",
        "\n",
        "\n",
        "\n",
        "\n"
      ]
    },
    {
      "cell_type": "code",
      "metadata": {
        "id": "v7TQUa6Hr9Ch",
        "colab_type": "code",
        "outputId": "93043073-6a0d-4028-f511-e9b66a43df9b",
        "colab": {
          "base_uri": "https://localhost:8080/",
          "height": 134
        }
      },
      "source": [
        "# ACCESSING THE FOLDER ON MY DRIVE AND GETTING ITS CONTENT\n",
        "\n",
        "# This only needs to be done once per notebook.\n",
        "from pydrive.auth import GoogleAuth\n",
        "from pydrive.drive import GoogleDrive\n",
        "from google.colab import auth\n",
        "from oauth2client.client import GoogleCredentials\n",
        "\n",
        "# Authenticate and create the PyDrive client.\n",
        "# This only needs to be done once per notebook.\n",
        "auth.authenticate_user()\n",
        "gauth = GoogleAuth()\n",
        "gauth.credentials = GoogleCredentials.get_application_default()\n",
        "drive = GoogleDrive(gauth)\n",
        "print(\"Auth Success\")\n",
        "\n",
        "# Getting the id of the folder which contains the files \n",
        "folder_id = '1vtV4IahA5vu3P8WQRRTPgRK8qPr1umKH'\n",
        "lister = drive.ListFile({'q': \"'%s' in parents\" % folder_id}).GetList()\n",
        "\n",
        "for item in lister:\n",
        "    print(item['title']) \n",
        "    print('title: %s, mimeType: %s' % (item['title'], item['mimeType']))\n",
        "    mimetypes = {\n",
        "        # Drive Document files as PDF\n",
        "        'application/vnd.google-apps.document': 'application/pdf',\n",
        "\n",
        "        # Drive Sheets files as MS Excel files.\n",
        "        'application/vnd.google-apps.spreadsheet': 'application/vnd.openxmlformats-officedocument.spreadsheetml.sheet'\n",
        "    }\n",
        "    download_mimetype = None\n",
        "    if item['mimeType'] in mimetypes:\n",
        "        download_mimetype = mimetypes[file['mimeType']]\n",
        "        item.GetContentFile(file['title'], mimetype=download_mimetype)\n",
        "\n",
        "        item.GetContentFile(r'C:\\Users\\Renata\\Desktop\\googedrive\\\\' + item['title'], mimetype=download_mimetype)\n",
        "    else: \n",
        "        item.GetContentFile(r'C:\\Users\\Renata\\Desktop\\googedrive\\\\' + item['title'])"
      ],
      "execution_count": 0,
      "outputs": [
        {
          "output_type": "stream",
          "text": [
            "Auth Success\n",
            "fer2013.csv\n",
            "title: fer2013.csv, mimeType: text/csv\n",
            "README\n",
            "title: README, mimeType: application/octet-stream\n",
            "fer2013.bib\n",
            "title: fer2013.bib, mimeType: text/x-bibtex\n"
          ],
          "name": "stdout"
        }
      ]
    },
    {
      "cell_type": "code",
      "metadata": {
        "id": "n-TelYm2gqL7",
        "colab_type": "code",
        "outputId": "28ea18e7-a0cb-466a-d3a3-aa068dd469d7",
        "colab": {
          "base_uri": "https://localhost:8080/",
          "height": 252
        }
      },
      "source": [
        "# READING THE FILE\n",
        "\n",
        "import numpy as np # linear algebra\n",
        "import pandas as pd # data processing, CSV file\n",
        "\n",
        "fer2013 = pd.read_csv(r'C:\\Users\\Renata\\Desktop\\googedrive\\\\fer2013.csv')\n",
        "print(fer2013)"
      ],
      "execution_count": 0,
      "outputs": [
        {
          "output_type": "stream",
          "text": [
            "       emotion                                             pixels        Usage\n",
            "0            0  70 80 82 72 58 58 60 63 54 58 60 48 89 115 121...     Training\n",
            "1            0  151 150 147 155 148 133 111 140 170 174 182 15...     Training\n",
            "2            2  231 212 156 164 174 138 161 173 182 200 106 38...     Training\n",
            "3            4  24 32 36 30 32 23 19 20 30 41 21 22 32 34 21 1...     Training\n",
            "4            6  4 0 0 0 0 0 0 0 0 0 0 0 3 15 23 28 48 50 58 84...     Training\n",
            "...        ...                                                ...          ...\n",
            "35882        6  50 36 17 22 23 29 33 39 34 37 37 37 39 43 48 5...  PrivateTest\n",
            "35883        3  178 174 172 173 181 188 191 194 196 199 200 20...  PrivateTest\n",
            "35884        0  17 17 16 23 28 22 19 17 25 26 20 24 31 19 27 9...  PrivateTest\n",
            "35885        3  30 28 28 29 31 30 42 68 79 81 77 67 67 71 63 6...  PrivateTest\n",
            "35886        2  19 13 14 12 13 16 21 33 50 57 71 84 97 108 122...  PrivateTest\n",
            "\n",
            "[35887 rows x 3 columns]\n"
          ],
          "name": "stdout"
        }
      ]
    },
    {
      "cell_type": "code",
      "metadata": {
        "id": "d0P1MObwri-O",
        "colab_type": "code",
        "colab": {}
      },
      "source": [
        "import tensorflow as tf\n",
        "\n",
        "import keras\n",
        "from keras.models import Sequential\n",
        "from keras.layers import Conv2D, MaxPooling2D, AveragePooling2D\n",
        "from keras.layers import Dense, Activation, Dropout, Flatten\n",
        "\n",
        "from keras.preprocessing import image\n",
        "from keras.preprocessing.image import ImageDataGenerator\n",
        "import pandas as pd\n",
        "import numpy as np\n",
        "import matplotlib.pyplot as plt"
      ],
      "execution_count": 0,
      "outputs": []
    }
  ]
}